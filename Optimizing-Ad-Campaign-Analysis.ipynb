{
 "cells": [
  {
   "cell_type": "code",
   "execution_count": 1,
   "id": "7956eac1-7352-41be-932b-6ba3fcefa421",
   "metadata": {},
   "outputs": [],
   "source": [
    "import pandas as pd\n",
    "import numpy as np\n",
    "import seaborn as sns\n",
    "\n",
    "pd.set_option('display.max_rows', None)\n",
    "pd.set_option('display.max_columns', None)\n",
    "\n",
    "\n",
    "keydf = pd.read_csv('Campaign-keywords-0221205.csv')\n",
    "\n",
    "keydf.drop(columns='Unnamed: 0', inplace=True)\n",
    "keydf.replace('unknown', np.nan, inplace=True)\n",
    "keydf.bid_strength.fillna('unknown', inplace=True)"
   ]
  },
  {
   "cell_type": "code",
   "execution_count": 2,
   "id": "f8de2b4a-6c26-4692-b9a7-eb2dc29e4875",
   "metadata": {},
   "outputs": [
    {
     "data": {
      "text/html": [
       "<div>\n",
       "<style scoped>\n",
       "    .dataframe tbody tr th:only-of-type {\n",
       "        vertical-align: middle;\n",
       "    }\n",
       "\n",
       "    .dataframe tbody tr th {\n",
       "        vertical-align: top;\n",
       "    }\n",
       "\n",
       "    .dataframe thead th {\n",
       "        text-align: right;\n",
       "    }\n",
       "</style>\n",
       "<table border=\"1\" class=\"dataframe\">\n",
       "  <thead>\n",
       "    <tr style=\"text-align: right;\">\n",
       "      <th></th>\n",
       "      <th>keyword</th>\n",
       "      <th>source</th>\n",
       "      <th>bid_type</th>\n",
       "      <th>bid_strength</th>\n",
       "      <th>current_cpc_bid</th>\n",
       "      <th>suggested_bid</th>\n",
       "      <th>spend</th>\n",
       "      <th>attributed_sales</th>\n",
       "      <th>attributed_quantities</th>\n",
       "      <th>roas</th>\n",
       "      <th>impressions</th>\n",
       "      <th>clicks</th>\n",
       "      <th>ctr</th>\n",
       "      <th>average_cpc</th>\n",
       "      <th>ntb_attributed_sales</th>\n",
       "      <th>percent_ntb_attributed_sales</th>\n",
       "    </tr>\n",
       "  </thead>\n",
       "  <tbody>\n",
       "    <tr>\n",
       "      <th>0</th>\n",
       "      <td>almond cheese</td>\n",
       "      <td>automated</td>\n",
       "      <td>default</td>\n",
       "      <td>green</td>\n",
       "      <td>1.24</td>\n",
       "      <td>1.24</td>\n",
       "      <td>0.2</td>\n",
       "      <td>0.0</td>\n",
       "      <td>0.0</td>\n",
       "      <td>0.0</td>\n",
       "      <td>2</td>\n",
       "      <td>1</td>\n",
       "      <td>50.000000</td>\n",
       "      <td>0.2</td>\n",
       "      <td>0.0</td>\n",
       "      <td>0.0</td>\n",
       "    </tr>\n",
       "    <tr>\n",
       "      <th>1</th>\n",
       "      <td>artichokes fresh</td>\n",
       "      <td>automated</td>\n",
       "      <td>default</td>\n",
       "      <td>unknown</td>\n",
       "      <td>1.24</td>\n",
       "      <td>NaN</td>\n",
       "      <td>0.2</td>\n",
       "      <td>0.0</td>\n",
       "      <td>0.0</td>\n",
       "      <td>0.0</td>\n",
       "      <td>58</td>\n",
       "      <td>1</td>\n",
       "      <td>1.724138</td>\n",
       "      <td>0.2</td>\n",
       "      <td>0.0</td>\n",
       "      <td>0.0</td>\n",
       "    </tr>\n",
       "    <tr>\n",
       "      <th>2</th>\n",
       "      <td>baba ganouj</td>\n",
       "      <td>manual</td>\n",
       "      <td>override</td>\n",
       "      <td>unknown</td>\n",
       "      <td>2.55</td>\n",
       "      <td>NaN</td>\n",
       "      <td>0.0</td>\n",
       "      <td>0.0</td>\n",
       "      <td>0.0</td>\n",
       "      <td>0.0</td>\n",
       "      <td>5</td>\n",
       "      <td>0</td>\n",
       "      <td>0.000000</td>\n",
       "      <td>0.0</td>\n",
       "      <td>0.0</td>\n",
       "      <td>0.0</td>\n",
       "    </tr>\n",
       "    <tr>\n",
       "      <th>3</th>\n",
       "      <td>babaganoush</td>\n",
       "      <td>manual</td>\n",
       "      <td>override</td>\n",
       "      <td>unknown</td>\n",
       "      <td>2.55</td>\n",
       "      <td>NaN</td>\n",
       "      <td>0.0</td>\n",
       "      <td>0.0</td>\n",
       "      <td>0.0</td>\n",
       "      <td>0.0</td>\n",
       "      <td>3</td>\n",
       "      <td>0</td>\n",
       "      <td>0.000000</td>\n",
       "      <td>0.0</td>\n",
       "      <td>0.0</td>\n",
       "      <td>0.0</td>\n",
       "    </tr>\n",
       "    <tr>\n",
       "      <th>4</th>\n",
       "      <td>baba ganoush</td>\n",
       "      <td>manual</td>\n",
       "      <td>override</td>\n",
       "      <td>unknown</td>\n",
       "      <td>2.55</td>\n",
       "      <td>NaN</td>\n",
       "      <td>0.0</td>\n",
       "      <td>0.0</td>\n",
       "      <td>0.0</td>\n",
       "      <td>0.0</td>\n",
       "      <td>50</td>\n",
       "      <td>0</td>\n",
       "      <td>0.000000</td>\n",
       "      <td>0.0</td>\n",
       "      <td>0.0</td>\n",
       "      <td>0.0</td>\n",
       "    </tr>\n",
       "  </tbody>\n",
       "</table>\n",
       "</div>"
      ],
      "text/plain": [
       "            keyword     source  bid_type bid_strength  current_cpc_bid  \\\n",
       "0     almond cheese  automated   default        green             1.24   \n",
       "1  artichokes fresh  automated   default      unknown             1.24   \n",
       "2       baba ganouj     manual  override      unknown             2.55   \n",
       "3       babaganoush     manual  override      unknown             2.55   \n",
       "4      baba ganoush     manual  override      unknown             2.55   \n",
       "\n",
       "   suggested_bid  spend  attributed_sales  attributed_quantities  roas  \\\n",
       "0           1.24    0.2               0.0                    0.0   0.0   \n",
       "1            NaN    0.2               0.0                    0.0   0.0   \n",
       "2            NaN    0.0               0.0                    0.0   0.0   \n",
       "3            NaN    0.0               0.0                    0.0   0.0   \n",
       "4            NaN    0.0               0.0                    0.0   0.0   \n",
       "\n",
       "   impressions  clicks        ctr  average_cpc  ntb_attributed_sales  \\\n",
       "0            2       1  50.000000          0.2                   0.0   \n",
       "1           58       1   1.724138          0.2                   0.0   \n",
       "2            5       0   0.000000          0.0                   0.0   \n",
       "3            3       0   0.000000          0.0                   0.0   \n",
       "4           50       0   0.000000          0.0                   0.0   \n",
       "\n",
       "   percent_ntb_attributed_sales  \n",
       "0                           0.0  \n",
       "1                           0.0  \n",
       "2                           0.0  \n",
       "3                           0.0  \n",
       "4                           0.0  "
      ]
     },
     "execution_count": 2,
     "metadata": {},
     "output_type": "execute_result"
    }
   ],
   "source": [
    "keydf.head()"
   ]
  },
  {
   "cell_type": "code",
   "execution_count": 3,
   "id": "7be1329f-411a-4b1a-afac-60cca1698094",
   "metadata": {},
   "outputs": [
    {
     "name": "stdout",
     "output_type": "stream",
     "text": [
      "Total campaign sales: 4325.9183297\n",
      "Total number of keywords: 389\n"
     ]
    }
   ],
   "source": [
    "total_sales = keydf.attributed_sales.sum()\n",
    "print('Total campaign sales: '+ str(total_sales))\n",
    "\n",
    "num_keywords = keydf.shape[0]\n",
    "print('Total number of keywords: ' + str(num_keywords))"
   ]
  },
  {
   "cell_type": "code",
   "execution_count": 4,
   "id": "30f77c0e-316b-483a-ac8a-9dec0a3716a9",
   "metadata": {},
   "outputs": [
    {
     "data": {
      "text/html": [
       "<div>\n",
       "<style scoped>\n",
       "    .dataframe tbody tr th:only-of-type {\n",
       "        vertical-align: middle;\n",
       "    }\n",
       "\n",
       "    .dataframe tbody tr th {\n",
       "        vertical-align: top;\n",
       "    }\n",
       "\n",
       "    .dataframe thead th {\n",
       "        text-align: right;\n",
       "    }\n",
       "</style>\n",
       "<table border=\"1\" class=\"dataframe\">\n",
       "  <thead>\n",
       "    <tr style=\"text-align: right;\">\n",
       "      <th></th>\n",
       "      <th>current_cpc_bid</th>\n",
       "      <th>suggested_bid</th>\n",
       "      <th>spend</th>\n",
       "      <th>attributed_sales</th>\n",
       "      <th>attributed_quantities</th>\n",
       "      <th>roas</th>\n",
       "      <th>impressions</th>\n",
       "      <th>clicks</th>\n",
       "      <th>ctr</th>\n",
       "      <th>average_cpc</th>\n",
       "      <th>ntb_attributed_sales</th>\n",
       "      <th>percent_ntb_attributed_sales</th>\n",
       "    </tr>\n",
       "  </thead>\n",
       "  <tbody>\n",
       "    <tr>\n",
       "      <th>count</th>\n",
       "      <td>389.000000</td>\n",
       "      <td>234.000000</td>\n",
       "      <td>389.000000</td>\n",
       "      <td>389.000000</td>\n",
       "      <td>389.000000</td>\n",
       "      <td>389.000000</td>\n",
       "      <td>389.000000</td>\n",
       "      <td>389.000000</td>\n",
       "      <td>389.000000</td>\n",
       "      <td>389.000000</td>\n",
       "      <td>389.000000</td>\n",
       "      <td>389.000000</td>\n",
       "    </tr>\n",
       "    <tr>\n",
       "      <th>mean</th>\n",
       "      <td>1.592674</td>\n",
       "      <td>2.011111</td>\n",
       "      <td>6.697738</td>\n",
       "      <td>11.120613</td>\n",
       "      <td>1.014567</td>\n",
       "      <td>3.100040</td>\n",
       "      <td>628.714653</td>\n",
       "      <td>4.573265</td>\n",
       "      <td>16.515647</td>\n",
       "      <td>0.995177</td>\n",
       "      <td>8.546696</td>\n",
       "      <td>23.596820</td>\n",
       "    </tr>\n",
       "    <tr>\n",
       "      <th>std</th>\n",
       "      <td>0.681321</td>\n",
       "      <td>1.252638</td>\n",
       "      <td>31.150544</td>\n",
       "      <td>43.025385</td>\n",
       "      <td>3.899429</td>\n",
       "      <td>13.024575</td>\n",
       "      <td>3369.445448</td>\n",
       "      <td>17.217167</td>\n",
       "      <td>29.658716</td>\n",
       "      <td>0.629913</td>\n",
       "      <td>34.602382</td>\n",
       "      <td>40.555688</td>\n",
       "    </tr>\n",
       "    <tr>\n",
       "      <th>min</th>\n",
       "      <td>0.420000</td>\n",
       "      <td>0.250000</td>\n",
       "      <td>0.000000</td>\n",
       "      <td>0.000000</td>\n",
       "      <td>0.000000</td>\n",
       "      <td>0.000000</td>\n",
       "      <td>0.000000</td>\n",
       "      <td>0.000000</td>\n",
       "      <td>0.000000</td>\n",
       "      <td>0.000000</td>\n",
       "      <td>0.000000</td>\n",
       "      <td>0.000000</td>\n",
       "    </tr>\n",
       "    <tr>\n",
       "      <th>25%</th>\n",
       "      <td>1.220000</td>\n",
       "      <td>1.242500</td>\n",
       "      <td>0.690000</td>\n",
       "      <td>0.000000</td>\n",
       "      <td>0.000000</td>\n",
       "      <td>0.000000</td>\n",
       "      <td>6.000000</td>\n",
       "      <td>1.000000</td>\n",
       "      <td>0.630499</td>\n",
       "      <td>0.580000</td>\n",
       "      <td>0.000000</td>\n",
       "      <td>0.000000</td>\n",
       "    </tr>\n",
       "    <tr>\n",
       "      <th>50%</th>\n",
       "      <td>1.220000</td>\n",
       "      <td>1.750000</td>\n",
       "      <td>1.200000</td>\n",
       "      <td>0.000000</td>\n",
       "      <td>0.000000</td>\n",
       "      <td>0.000000</td>\n",
       "      <td>40.000000</td>\n",
       "      <td>1.000000</td>\n",
       "      <td>2.512563</td>\n",
       "      <td>1.060000</td>\n",
       "      <td>0.000000</td>\n",
       "      <td>0.000000</td>\n",
       "    </tr>\n",
       "    <tr>\n",
       "      <th>75%</th>\n",
       "      <td>1.890000</td>\n",
       "      <td>2.300000</td>\n",
       "      <td>2.270000</td>\n",
       "      <td>10.950000</td>\n",
       "      <td>1.000000</td>\n",
       "      <td>1.257176</td>\n",
       "      <td>186.000000</td>\n",
       "      <td>2.000000</td>\n",
       "      <td>14.285714</td>\n",
       "      <td>1.270000</td>\n",
       "      <td>8.990000</td>\n",
       "      <td>49.999998</td>\n",
       "    </tr>\n",
       "    <tr>\n",
       "      <th>max</th>\n",
       "      <td>4.900000</td>\n",
       "      <td>8.250000</td>\n",
       "      <td>472.240000</td>\n",
       "      <td>391.180001</td>\n",
       "      <td>35.333333</td>\n",
       "      <td>188.849985</td>\n",
       "      <td>49182.000000</td>\n",
       "      <td>216.000000</td>\n",
       "      <td>100.000000</td>\n",
       "      <td>3.247164</td>\n",
       "      <td>336.554993</td>\n",
       "      <td>100.000001</td>\n",
       "    </tr>\n",
       "  </tbody>\n",
       "</table>\n",
       "</div>"
      ],
      "text/plain": [
       "       current_cpc_bid  suggested_bid       spend  attributed_sales  \\\n",
       "count       389.000000     234.000000  389.000000        389.000000   \n",
       "mean          1.592674       2.011111    6.697738         11.120613   \n",
       "std           0.681321       1.252638   31.150544         43.025385   \n",
       "min           0.420000       0.250000    0.000000          0.000000   \n",
       "25%           1.220000       1.242500    0.690000          0.000000   \n",
       "50%           1.220000       1.750000    1.200000          0.000000   \n",
       "75%           1.890000       2.300000    2.270000         10.950000   \n",
       "max           4.900000       8.250000  472.240000        391.180001   \n",
       "\n",
       "       attributed_quantities        roas   impressions      clicks  \\\n",
       "count             389.000000  389.000000    389.000000  389.000000   \n",
       "mean                1.014567    3.100040    628.714653    4.573265   \n",
       "std                 3.899429   13.024575   3369.445448   17.217167   \n",
       "min                 0.000000    0.000000      0.000000    0.000000   \n",
       "25%                 0.000000    0.000000      6.000000    1.000000   \n",
       "50%                 0.000000    0.000000     40.000000    1.000000   \n",
       "75%                 1.000000    1.257176    186.000000    2.000000   \n",
       "max                35.333333  188.849985  49182.000000  216.000000   \n",
       "\n",
       "              ctr  average_cpc  ntb_attributed_sales  \\\n",
       "count  389.000000   389.000000            389.000000   \n",
       "mean    16.515647     0.995177              8.546696   \n",
       "std     29.658716     0.629913             34.602382   \n",
       "min      0.000000     0.000000              0.000000   \n",
       "25%      0.630499     0.580000              0.000000   \n",
       "50%      2.512563     1.060000              0.000000   \n",
       "75%     14.285714     1.270000              8.990000   \n",
       "max    100.000000     3.247164            336.554993   \n",
       "\n",
       "       percent_ntb_attributed_sales  \n",
       "count                    389.000000  \n",
       "mean                      23.596820  \n",
       "std                       40.555688  \n",
       "min                        0.000000  \n",
       "25%                        0.000000  \n",
       "50%                        0.000000  \n",
       "75%                       49.999998  \n",
       "max                      100.000001  "
      ]
     },
     "execution_count": 4,
     "metadata": {},
     "output_type": "execute_result"
    }
   ],
   "source": [
    "keydf.describe()"
   ]
  },
  {
   "cell_type": "code",
   "execution_count": 5,
   "id": "4bb7f13b-bff1-4753-a61c-2fb0678a79aa",
   "metadata": {},
   "outputs": [
    {
     "data": {
      "text/html": [
       "<div>\n",
       "<style scoped>\n",
       "    .dataframe tbody tr th:only-of-type {\n",
       "        vertical-align: middle;\n",
       "    }\n",
       "\n",
       "    .dataframe tbody tr th {\n",
       "        vertical-align: top;\n",
       "    }\n",
       "\n",
       "    .dataframe thead th {\n",
       "        text-align: right;\n",
       "    }\n",
       "</style>\n",
       "<table border=\"1\" class=\"dataframe\">\n",
       "  <thead>\n",
       "    <tr style=\"text-align: right;\">\n",
       "      <th></th>\n",
       "      <th>index</th>\n",
       "      <th>keyword</th>\n",
       "    </tr>\n",
       "  </thead>\n",
       "  <tbody>\n",
       "    <tr>\n",
       "      <th>0</th>\n",
       "      <td>almond cheese</td>\n",
       "      <td>2</td>\n",
       "    </tr>\n",
       "    <tr>\n",
       "      <th>23</th>\n",
       "      <td>vegan cream cheese</td>\n",
       "      <td>2</td>\n",
       "    </tr>\n",
       "    <tr>\n",
       "      <th>25</th>\n",
       "      <td>vegan dips</td>\n",
       "      <td>2</td>\n",
       "    </tr>\n",
       "    <tr>\n",
       "      <th>26</th>\n",
       "      <td>vegan spread</td>\n",
       "      <td>2</td>\n",
       "    </tr>\n",
       "    <tr>\n",
       "      <th>27</th>\n",
       "      <td>veggie dip</td>\n",
       "      <td>2</td>\n",
       "    </tr>\n",
       "  </tbody>\n",
       "</table>\n",
       "</div>"
      ],
      "text/plain": [
       "                 index  keyword\n",
       "0        almond cheese        2\n",
       "23  vegan cream cheese        2\n",
       "25          vegan dips        2\n",
       "26        vegan spread        2\n",
       "27          veggie dip        2"
      ]
     },
     "execution_count": 5,
     "metadata": {},
     "output_type": "execute_result"
    }
   ],
   "source": [
    "keydf.keyword.value_counts().reset_index().sort_values('keyword', ascending=False).head()"
   ]
  },
  {
   "cell_type": "markdown",
   "id": "6e6f96c7-1074-4627-9de1-f0842b89a000",
   "metadata": {},
   "source": [
    "##### A total of \\\\$1623.0 dollars can be saved by removing keywords with ROAS < 1. This is 62% of the amount spent on ads for keywords with ROAS < 1, meaning that for every keywords with ROAS below 1, \\\\$1.0 dollars is invested and getting less than \\\\$1.0 dollars in return"
   ]
  },
  {
   "cell_type": "code",
   "execution_count": 6,
   "id": "43d5cc99-337b-482b-933a-6ba36a073588",
   "metadata": {},
   "outputs": [
    {
     "data": {
      "text/plain": [
       "2605.42"
      ]
     },
     "execution_count": 6,
     "metadata": {},
     "output_type": "execute_result"
    }
   ],
   "source": [
    "# Total spent on adds\n",
    "keydf.spend.sum()"
   ]
  },
  {
   "cell_type": "code",
   "execution_count": 7,
   "id": "766560cc-d029-452a-a6e1-5a7af4354fea",
   "metadata": {},
   "outputs": [
    {
     "data": {
      "text/plain": [
       "1623.0800000000002"
      ]
     },
     "execution_count": 7,
     "metadata": {},
     "output_type": "execute_result"
    }
   ],
   "source": [
    "# Total ad spent ROAS < 1\n",
    "keydf.spend[keydf.roas < 1].sum()"
   ]
  },
  {
   "cell_type": "code",
   "execution_count": 8,
   "id": "0103b5e0-aedc-4052-a269-c62e32d0a709",
   "metadata": {},
   "outputs": [
    {
     "data": {
      "text/plain": [
       "982.34"
      ]
     },
     "execution_count": 8,
     "metadata": {},
     "output_type": "execute_result"
    }
   ],
   "source": [
    "# Total ad spent ROAS >= 1\n",
    "keydf.spend[keydf.roas >= 1].sum()"
   ]
  },
  {
   "cell_type": "code",
   "execution_count": 9,
   "id": "37f3271a-1fd3-4ebc-a338-5e3858481eea",
   "metadata": {},
   "outputs": [
    {
     "data": {
      "text/plain": [
       "640.7400000000001"
      ]
     },
     "execution_count": 9,
     "metadata": {},
     "output_type": "execute_result"
    }
   ],
   "source": [
    "# Total amount that can be saved by removing keywords with ROAS = \n",
    "keydf.spend[keydf.roas < 1].sum() - keydf.spend[keydf.roas >= 1].sum()"
   ]
  },
  {
   "cell_type": "code",
   "execution_count": 10,
   "id": "c96d7d9f-dfcb-4528-b810-efc3d4fe0826",
   "metadata": {},
   "outputs": [
    {
     "data": {
      "text/plain": [
       "62.29629004152881"
      ]
     },
     "execution_count": 10,
     "metadata": {},
     "output_type": "execute_result"
    }
   ],
   "source": [
    "# % of ad spent in keywords with ROAS < 1\n",
    "(1 - (keydf.spend.sum() - keydf.spend[keydf.roas < 1].sum()) / (keydf.spend.sum())) * 100"
   ]
  },
  {
   "cell_type": "markdown",
   "id": "9731d719-3cbd-472b-aee8-8eed1f6d5726",
   "metadata": {},
   "source": [
    "##### Most keywords with ROAS < 1 are automatically generated by Instacart"
   ]
  },
  {
   "cell_type": "code",
   "execution_count": 11,
   "id": "070bd4e9-410a-47ff-8deb-e664cb126e22",
   "metadata": {},
   "outputs": [
    {
     "data": {
      "text/plain": [
       "automated    212\n",
       "manual        77\n",
       "Name: source, dtype: int64"
      ]
     },
     "execution_count": 11,
     "metadata": {},
     "output_type": "execute_result"
    }
   ],
   "source": [
    "# keyword source distribution for keywords with ROAS < 1\n",
    "auto_words_less_1 = keydf.source[keydf.roas < 1].value_counts()\n",
    "auto_words_less_1"
   ]
  },
  {
   "cell_type": "code",
   "execution_count": 12,
   "id": "a14ed107-208a-49dd-932f-7e2d580bcfc1",
   "metadata": {},
   "outputs": [
    {
     "data": {
      "text/plain": [
       "automated    65\n",
       "manual       35\n",
       "Name: source, dtype: int64"
      ]
     },
     "execution_count": 12,
     "metadata": {},
     "output_type": "execute_result"
    }
   ],
   "source": [
    "# key words source distribution for keywords with ROAS >=1\n",
    "auto_words_more_1 = keydf.source[keydf.roas >= 1].value_counts()\n",
    "auto_words_more_1"
   ]
  },
  {
   "cell_type": "code",
   "execution_count": 13,
   "id": "4b814884-11fc-4eb6-8eb5-ff1d23b7a2fd",
   "metadata": {},
   "outputs": [
    {
     "data": {
      "text/plain": [
       "63.67924528301887"
      ]
     },
     "execution_count": 13,
     "metadata": {},
     "output_type": "execute_result"
    }
   ],
   "source": [
    "# % automated keywords with ROAS < 1\n",
    "100 - ((auto_words_less_1.loc['manual'] / auto_words_less_1.loc['automated']) *100)"
   ]
  },
  {
   "cell_type": "code",
   "execution_count": 14,
   "id": "2a14ee76-3ccd-4679-877f-15b3c8942452",
   "metadata": {},
   "outputs": [
    {
     "data": {
      "text/plain": [
       "46.15384615384615"
      ]
     },
     "execution_count": 14,
     "metadata": {},
     "output_type": "execute_result"
    }
   ],
   "source": [
    "# % automated keywords with ROAS >= 1\n",
    "100 - ((auto_words_more_1.loc['manual'] / auto_words_more_1.loc['automated']) *100)"
   ]
  },
  {
   "cell_type": "markdown",
   "id": "28bade56-258c-4206-8ffa-ffed23165b8d",
   "metadata": {},
   "source": [
    "##### Each keyword with a return on investment higher than the median (excluding those keywords with return on investment less than 1) is split into single words. The words are counted, therefore, a word that contains one or more of the best performing keywords could be a keyword a high potential return on investment (ROA)."
   ]
  },
  {
   "cell_type": "code",
   "execution_count": 15,
   "id": "3ba6dc39-9a09-481f-97e0-8f88e8b1db86",
   "metadata": {},
   "outputs": [],
   "source": [
    "# Selecting only whole campaign with ROAS > 0\n",
    "keydf_pos = keydf.copy()\n",
    "keydf_pos = keydf[keydf['roas'] >= 1]"
   ]
  },
  {
   "cell_type": "code",
   "execution_count": 16,
   "id": "177097a2-4961-4625-8689-7c977b9bddd6",
   "metadata": {},
   "outputs": [
    {
     "data": {
      "text/html": [
       "<div>\n",
       "<style scoped>\n",
       "    .dataframe tbody tr th:only-of-type {\n",
       "        vertical-align: middle;\n",
       "    }\n",
       "\n",
       "    .dataframe tbody tr th {\n",
       "        vertical-align: top;\n",
       "    }\n",
       "\n",
       "    .dataframe thead th {\n",
       "        text-align: right;\n",
       "    }\n",
       "</style>\n",
       "<table border=\"1\" class=\"dataframe\">\n",
       "  <thead>\n",
       "    <tr style=\"text-align: right;\">\n",
       "      <th></th>\n",
       "      <th>word</th>\n",
       "      <th>count</th>\n",
       "    </tr>\n",
       "  </thead>\n",
       "  <tbody>\n",
       "    <tr>\n",
       "      <th>0</th>\n",
       "      <td>cheese</td>\n",
       "      <td>24</td>\n",
       "    </tr>\n",
       "    <tr>\n",
       "      <th>1</th>\n",
       "      <td>dip</td>\n",
       "      <td>12</td>\n",
       "    </tr>\n",
       "    <tr>\n",
       "      <th>2</th>\n",
       "      <td>free</td>\n",
       "      <td>7</td>\n",
       "    </tr>\n",
       "    <tr>\n",
       "      <th>3</th>\n",
       "      <td>vegan</td>\n",
       "      <td>6</td>\n",
       "    </tr>\n",
       "    <tr>\n",
       "      <th>4</th>\n",
       "      <td>dairy</td>\n",
       "      <td>5</td>\n",
       "    </tr>\n",
       "    <tr>\n",
       "      <th>5</th>\n",
       "      <td>cream</td>\n",
       "      <td>5</td>\n",
       "    </tr>\n",
       "    <tr>\n",
       "      <th>6</th>\n",
       "      <td>feta</td>\n",
       "      <td>4</td>\n",
       "    </tr>\n",
       "    <tr>\n",
       "      <th>7</th>\n",
       "      <td>cashew</td>\n",
       "      <td>4</td>\n",
       "    </tr>\n",
       "    <tr>\n",
       "      <th>8</th>\n",
       "      <td>dips</td>\n",
       "      <td>3</td>\n",
       "    </tr>\n",
       "    <tr>\n",
       "      <th>9</th>\n",
       "      <td>lactose</td>\n",
       "      <td>3</td>\n",
       "    </tr>\n",
       "    <tr>\n",
       "      <th>10</th>\n",
       "      <td>veggie</td>\n",
       "      <td>3</td>\n",
       "    </tr>\n",
       "    <tr>\n",
       "      <th>11</th>\n",
       "      <td>low</td>\n",
       "      <td>2</td>\n",
       "    </tr>\n",
       "    <tr>\n",
       "      <th>12</th>\n",
       "      <td>hummus</td>\n",
       "      <td>2</td>\n",
       "    </tr>\n",
       "    <tr>\n",
       "      <th>13</th>\n",
       "      <td>queso</td>\n",
       "      <td>2</td>\n",
       "    </tr>\n",
       "    <tr>\n",
       "      <th>14</th>\n",
       "      <td>shredded</td>\n",
       "      <td>2</td>\n",
       "    </tr>\n",
       "    <tr>\n",
       "      <th>15</th>\n",
       "      <td>spreads</td>\n",
       "      <td>2</td>\n",
       "    </tr>\n",
       "    <tr>\n",
       "      <th>16</th>\n",
       "      <td>french</td>\n",
       "      <td>1</td>\n",
       "    </tr>\n",
       "    <tr>\n",
       "      <th>17</th>\n",
       "      <td>block</td>\n",
       "      <td>1</td>\n",
       "    </tr>\n",
       "    <tr>\n",
       "      <th>18</th>\n",
       "      <td>fruit</td>\n",
       "      <td>1</td>\n",
       "    </tr>\n",
       "    <tr>\n",
       "      <th>19</th>\n",
       "      <td>onion</td>\n",
       "      <td>1</td>\n",
       "    </tr>\n",
       "  </tbody>\n",
       "</table>\n",
       "</div>"
      ],
      "text/plain": [
       "        word  count\n",
       "0     cheese     24\n",
       "1        dip     12\n",
       "2       free      7\n",
       "3      vegan      6\n",
       "4      dairy      5\n",
       "5      cream      5\n",
       "6       feta      4\n",
       "7     cashew      4\n",
       "8       dips      3\n",
       "9    lactose      3\n",
       "10    veggie      3\n",
       "11       low      2\n",
       "12    hummus      2\n",
       "13     queso      2\n",
       "14  shredded      2\n",
       "15   spreads      2\n",
       "16    french      1\n",
       "17     block      1\n",
       "18     fruit      1\n",
       "19     onion      1"
      ]
     },
     "execution_count": 16,
     "metadata": {},
     "output_type": "execute_result"
    }
   ],
   "source": [
    "keydf_median = keydf_pos[keydf_pos['roas'] > keydf_pos['roas'].median()]\n",
    "\n",
    "keydf_pos_words = keydf_median.keyword.str.split().explode().value_counts().reset_index().rename({'index':\"word\",\"keyword\":\"count\"},axis=1)\n",
    "keydf_pos_words.head(20)\n",
    "# keydf_pos_words.to_csv('words_count.csv')"
   ]
  },
  {
   "cell_type": "code",
   "execution_count": 17,
   "id": "ab610c51-231c-4c88-8b7e-8e0308abf643",
   "metadata": {},
   "outputs": [
    {
     "data": {
      "text/plain": [
       "5.421967638"
      ]
     },
     "execution_count": 17,
     "metadata": {},
     "output_type": "execute_result"
    }
   ],
   "source": [
    "# Median ROA for keywords with ROA >=1\n",
    "keydf_pos.roas.median()"
   ]
  },
  {
   "cell_type": "code",
   "execution_count": 18,
   "id": "55f68211-c2a0-400b-81ec-58036762c0b1",
   "metadata": {},
   "outputs": [
    {
     "data": {
      "text/plain": [
       "3399.3333285"
      ]
     },
     "execution_count": 18,
     "metadata": {},
     "output_type": "execute_result"
    }
   ],
   "source": [
    "# Total sales (revenue) \n",
    "keydf.attributed_sales[keydf.roas >= 1].sum()"
   ]
  },
  {
   "cell_type": "code",
   "execution_count": 19,
   "id": "33b1a8ae-d0e9-4bed-b7ef-bcd978b129e1",
   "metadata": {},
   "outputs": [
    {
     "data": {
      "text/plain": [
       "926.5850012000001"
      ]
     },
     "execution_count": 19,
     "metadata": {},
     "output_type": "execute_result"
    }
   ],
   "source": [
    "keydf.attributed_sales[keydf.roas < 1].sum()"
   ]
  },
  {
   "cell_type": "code",
   "execution_count": 20,
   "id": "1716472f-faac-4b34-bb5d-13092844c3a4",
   "metadata": {},
   "outputs": [
    {
     "data": {
      "text/plain": [
       "4325.9183297"
      ]
     },
     "execution_count": 20,
     "metadata": {},
     "output_type": "execute_result"
    }
   ],
   "source": [
    "keydf.attributed_sales[keydf.roas >= 1].sum() + keydf.attributed_sales[keydf.roas < 1].sum()"
   ]
  },
  {
   "cell_type": "markdown",
   "id": "0d85a9ad-94b3-47f0-a4f0-a8ec18076749",
   "metadata": {},
   "source": [
    "### Recommendations"
   ]
  },
  {
   "cell_type": "markdown",
   "id": "4e1fe1ab-5152-4cb3-a242-0f2c94e68d4d",
   "metadata": {},
   "source": [
    "- Remove keywords with little return on investment (ROAS <1) because for every dollar paid in advertising, less than one dollar is made in profit.\n",
    "\n",
    "- Experiment with keywords that have a combination of cheese, dip, cream, free, dairy, fat. For example, dairy free, fat free, lactose free.\n",
    "\n",
    "- Most keywords with little return on invesment are automatically generated by Instacart (63%). These keywords are generated by considering a number of factors like what users are searching for. Therefore, it can be useful to find new keywords associated with the product. Some of the automated keywords are similar to manual generated keywords like cheese (manual), or cheeze (automated). The recommendation is to monitor the keywords weekly, and explore the possibility of adjusting the seetings when generating keywords by Instacart, if available."
   ]
  }
 ],
 "metadata": {
  "kernelspec": {
   "display_name": "Python 3 (ipykernel)",
   "language": "python",
   "name": "python3"
  },
  "language_info": {
   "codemirror_mode": {
    "name": "ipython",
    "version": 3
   },
   "file_extension": ".py",
   "mimetype": "text/x-python",
   "name": "python",
   "nbconvert_exporter": "python",
   "pygments_lexer": "ipython3",
   "version": "3.9.7"
  }
 },
 "nbformat": 4,
 "nbformat_minor": 5
}
